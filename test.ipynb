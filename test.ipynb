{
 "cells": [
  {
   "cell_type": "code",
   "execution_count": 3,
   "metadata": {},
   "outputs": [],
   "source": [
    "import re\n",
    "import random"
   ]
  },
  {
   "cell_type": "code",
   "execution_count": 5,
   "metadata": {},
   "outputs": [],
   "source": [
    "en = open(\"en.txt\", encoding=\"utf-8\")\n",
    "de = open(\"de.txt\", encoding=\"utf-8\")\n",
    "en_train, de_train = open(\"en_train.txt\", \"a\", encoding=\"utf-8\"), open(\"de_train.txt\", \"a\", encoding=\"utf-8\")\n",
    "en_val, de_val = open(\"en_val.txt\", \"a\", encoding=\"utf-8\"), open(\"de_val.txt\", \"a\", encoding=\"utf-8\")\n",
    "total = 192881\n",
    "val_indices = random.choices(range(1, total + 1), k=total//10)\n",
    "\n",
    "for idx in range(1, total + 1):\n",
    "    en_line, de_line = en.readline(), de.readline()\n",
    "    if idx in val_indices:\n",
    "        en_val.write(en_line)\n",
    "        de_val.write(de_line)\n",
    "        en_val.flush()\n",
    "        de_val.flush()\n",
    "    else:\n",
    "        en_train.write(en_line)\n",
    "        de_train.write(de_line)\n",
    "        en_train.flush()\n",
    "        de_train.flush()\n"
   ]
  }
 ],
 "metadata": {
  "kernelspec": {
   "display_name": "Python 3",
   "language": "python",
   "name": "python3"
  },
  "language_info": {
   "codemirror_mode": {
    "name": "ipython",
    "version": 3
   },
   "file_extension": ".py",
   "mimetype": "text/x-python",
   "name": "python",
   "nbconvert_exporter": "python",
   "pygments_lexer": "ipython3",
   "version": "3.11.4"
  },
  "orig_nbformat": 4
 },
 "nbformat": 4,
 "nbformat_minor": 2
}
