{
 "cells": [
  {
   "cell_type": "code",
   "execution_count": null,
   "metadata": {},
   "outputs": [],
   "source": [
    "import os\n",
    "import platform\n",
    "\n",
    "from google.colab import drive\n",
    "drive.mount(\"/content/drive\")"
   ]
  },
  {
   "cell_type": "code",
   "execution_count": null,
   "metadata": {},
   "outputs": [],
   "source": [
    "!cp /content/drive/MyDrive/datasets/ocr_data.zip ."
   ]
  },
  {
   "cell_type": "code",
   "execution_count": null,
   "metadata": {},
   "outputs": [],
   "source": [
    "if not os.path.isfile(\"ocr_data.zip\"):\n",
    "    if not os.path.isdir(\"data\"):\n",
    "        print(\"upload images\")\n",
    "        exit()\n",
    "elif platform.system() == \"Linux\":\n",
    "    os.system(\n",
    "        \"git clone https://github.com/n1teshy/sequence-transduction && mv sequence-transduction/core . && rm -rf sequence-transduction\"\n",
    "    )\n",
    "    os.system(\n",
    "        \"git clone https://github.com/n1teshy/cache && mv cache/ocr/tokenizers . && rm -rf cache\"\n",
    "    )\n",
    "    os.system(\"unzip ocr_data.zip -d . > /dev/null && rm ocr_data.zip\")\n",
    "else:\n",
    "    os.system(\n",
    "        \"git clone https://github.com/n1teshy/sequence-transduction & move sequence-transduction/core . & rd /s /q sequence-transduction\"\n",
    "    )\n",
    "    os.system(\n",
    "        \"git clone https://github.com/n1teshy/cache & move cache/ocr/tokenizers . & rd /s /q cache\"\n",
    "    )\n",
    "    os.system(\n",
    "        \"powershell Expand-Archive -Path ocr_data.zip -DestinationPath . > NUL & del ocr_data.zip\"\n",
    "    )"
   ]
  },
  {
   "cell_type": "code",
   "execution_count": null,
   "metadata": {},
   "outputs": [],
   "source": [
    "import torch\n",
    "import signal\n",
    "import threading\n",
    "from core.config import device\n",
    "import torch.nn.functional as F\n",
    "from core.models import OCR, resnet18\n",
    "from torch.utils.data import DataLoader\n",
    "from core.datasets.image import OCRDataset\n",
    "from core.tokenizers.regex import get_tokenizer\n",
    "from core.utils import get_param_count, DualLogger, kaiming_init"
   ]
  },
  {
   "cell_type": "code",
   "execution_count": null,
   "metadata": {},
   "outputs": [],
   "source": [
    "cnn_fn = resnet18\n",
    "logger = DualLogger(\"model.log\")\n",
    "interrupted = threading.Event()\n",
    "signal.signal(signal.SIGINT, lambda _, __: interrupted.set())"
   ]
  },
  {
   "cell_type": "code",
   "execution_count": null,
   "metadata": {},
   "outputs": [],
   "source": [
    "EPOCHS = 100\n",
    "LEARNING_RATE = 0.003\n",
    "EMBEDDING_SIZE = 288\n",
    "VOCAB_SZE = None\n",
    "MAX_LEN = 100\n",
    "DEC_LAYERS = 5\n",
    "DEC_HEADS = 8\n",
    "PADDING_ID = None\n",
    "MIN_PROGRESS = 0.1\n",
    "BATCH_SIZE = 8\n",
    "TRAIN_FOLDER = \"data/train\"\n",
    "VAL_FOLDER = \"data/test\"\n",
    "ENCODER = cnn_fn(num_classes=EMBEDDING_SIZE)\n",
    "\n",
    "mt_loss, mv_loss = None, None\n",
    "last_saved_at = float(\"inf\")\n",
    "cur_loss_wt = 1 / 400\n",
    "mn_loss_wt = 1 - cur_loss_wt\n",
    "param_dir = os.path.join(\"/content/drive/MyDrive/ocr_params\", f\"cnn_{cnn_fn.__name__}_emb_{EMBEDDING_SIZE}_lyrs_{DEC_LAYERS}_hds_{DEC_HEADS}_mxlen_{MAX_LEN}\")\n",
    "os.makedirs(param_dir, exist_ok=True)"
   ]
  },
  {
   "cell_type": "code",
   "execution_count": null,
   "metadata": {},
   "outputs": [],
   "source": [
    "tokenizer = get_tokenizer(\"_.txt\", 384, \"tokenizers/en\")\n",
    "VOCAB_SZE = tokenizer.size\n",
    "\n",
    "train_dataset = OCRDataset(\n",
    "    TRAIN_FOLDER, mapping_file=\"meta/labels.txt\", tokenizer=tokenizer\n",
    ")\n",
    "val_dataset = OCRDataset(\n",
    "    VAL_FOLDER, mapping_file=\"meta/labels.txt\", tokenizer=tokenizer\n",
    ")\n",
    "PADDING_ID = train_dataset.pad_id\n",
    "\n",
    "train_dataloader = DataLoader(\n",
    "    train_dataset, collate_fn=train_dataset.collate, batch_size=BATCH_SIZE, shuffle=True\n",
    ")\n",
    "test_dataloader = DataLoader(\n",
    "    val_dataset, collate_fn=val_dataset.collate, batch_size=BATCH_SIZE, shuffle=True\n",
    ")"
   ]
  },
  {
   "cell_type": "code",
   "execution_count": null,
   "metadata": {},
   "outputs": [],
   "source": [
    "@torch.no_grad()\n",
    "def get_test_loss(model):\n",
    "    model.eval()\n",
    "    for pixels, tokens in test_dataloader:\n",
    "        break\n",
    "    logits = model(pixels, tokens[:, :-1])\n",
    "    B, T, C = logits.shape\n",
    "    logits, tokens = logits.reshape((B * T, C)), tokens[:, 1:].reshape(-1)\n",
    "    model.train()\n",
    "    return F.cross_entropy(logits, tokens)\n",
    "\n",
    "\n",
    "def save_model(folder=param_dir, checkpoint=False):\n",
    "    filename = \"ocr_%.4f_%.4f_class_%d_lr_%.4f.%s\" % (\n",
    "        mt_loss,\n",
    "        mv_loss,\n",
    "        EMBEDDING_SIZE,\n",
    "        LEARNING_RATE,\n",
    "        \"chk\" if checkpoint else \"pth\",\n",
    "    )\n",
    "    torch.save(model.state_dict(), os.path.join(folder, f\"{filename}\"))\n",
    "    logger.log(\"saved model with losses %.4f/%.4f at %s\" % (mt_loss, mv_loss, filename))"
   ]
  },
  {
   "cell_type": "code",
   "execution_count": null,
   "metadata": {},
   "outputs": [],
   "source": [
    "model = OCR.spawn(\n",
    "    encoder=ENCODER.to(device),\n",
    "    out_vocab_size=VOCAB_SZE,\n",
    "    embedding_size=EMBEDDING_SIZE,\n",
    "    max_len=MAX_LEN,\n",
    "    dec_layers=DEC_LAYERS,\n",
    "    dec_heads=DEC_HEADS,\n",
    "    tgt_pad_id=PADDING_ID,\n",
    ")\n",
    "# model.load_state_dict(torch.load(\"\", map_location=device))\n",
    "kaiming_init(model)\n",
    "model_param_count = get_param_count(model)\n",
    "resnet_param_count = get_param_count(ENCODER)\n",
    "logger.log(\n",
    "    \"parameters: %.4fmn (%.4f + %.4f)\"\n",
    "    % (\n",
    "        model_param_count / 1e6,\n",
    "        resnet_param_count / 1e6,\n",
    "        (model_param_count - resnet_param_count) / 1e6,\n",
    "    )\n",
    ")\n",
    "optimizer = torch.optim.AdamW(model.parameters(), lr=LEARNING_RATE)"
   ]
  },
  {
   "cell_type": "code",
   "execution_count": null,
   "metadata": {},
   "outputs": [],
   "source": [
    "for epoch in range(1, EPOCHS + 1):\n",
    "    for batch, (pixels, tokens) in enumerate(train_dataloader, start=1):\n",
    "        try:\n",
    "            logits = model(pixels, tokens[:, :-1])\n",
    "            B, T, C = logits.shape\n",
    "            logits, tokens = logits.reshape((B * T, C)), tokens[:, 1:].reshape(-1)\n",
    "            t_loss = F.cross_entropy(logits, tokens)\n",
    "            optimizer.zero_grad()\n",
    "            t_loss.backward()\n",
    "            optimizer.step()\n",
    "            t_loss = t_loss.item()\n",
    "            v_loss = get_test_loss(model).item()\n",
    "            mt_loss = (mt_loss or t_loss) * mn_loss_wt + t_loss * cur_loss_wt\n",
    "            mv_loss = (mv_loss or v_loss) * mn_loss_wt + v_loss * cur_loss_wt\n",
    "            logger.log(\n",
    "                \"%d:%d -> %.4f(mean:%.4f), %.4f(mean:%.4f)\"\n",
    "                % (epoch, batch, t_loss, mt_loss, v_loss, mv_loss)\n",
    "            )\n",
    "            if last_saved_at - mv_loss >= MIN_PROGRESS:\n",
    "                save_model()\n",
    "                last_saved_at = mv_loss\n",
    "            if interrupted.is_set():\n",
    "                save_model(checkpoint=True)\n",
    "                exit()\n",
    "        except Exception:\n",
    "            save_model(checkpoint=True)\n",
    "            raise"
   ]
  },
  {
   "cell_type": "code",
   "execution_count": null,
   "metadata": {},
   "outputs": [],
   "source": [
    "def predict(image, bos_id, eos_id):\n",
    "    context = torch.tensor([[bos_id]], device=device)\n",
    "    while True:\n",
    "        logits = model(image, context)\n",
    "        probs = F.softmax(logits, dim=-1)\n",
    "        probs = probs.view(-1, probs.shape[-1])\n",
    "        choices = torch.multinomial(probs, num_samples=1)\n",
    "        choices = choices[-1, :]\n",
    "        if choices.item() == eos_id:\n",
    "            break\n",
    "        context = torch.cat((context, choices.unsqueeze(0)), dim=1)\n",
    "    return context[0].tolist()"
   ]
  },
  {
   "cell_type": "code",
   "execution_count": null,
   "metadata": {},
   "outputs": [],
   "source": [
    "for images, tgt_tokens in test_dataloader:\n",
    "    image = images[0].unsqueeze(0)\n",
    "    pred_tokens = predict(image, val_dataset.bos_id, val_dataset.eos_id)\n",
    "    print(tokenizer.decode(tgt_tokens[0].tolist()), tokenizer.decode(pred_tokens))"
   ]
  }
 ],
 "metadata": {
  "kernelspec": {
   "display_name": "venv",
   "language": "python",
   "name": "python3"
  },
  "language_info": {
   "codemirror_mode": {
    "name": "ipython",
    "version": 3
   },
   "file_extension": ".py",
   "mimetype": "text/x-python",
   "name": "python",
   "nbconvert_exporter": "python",
   "pygments_lexer": "ipython3",
   "version": "3.11.4"
  },
  "orig_nbformat": 4
 },
 "nbformat": 4,
 "nbformat_minor": 2
}
