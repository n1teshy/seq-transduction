{
 "cells": [
  {
   "cell_type": "code",
   "execution_count": null,
   "metadata": {},
   "outputs": [],
   "source": [
    "from google.colab import drive\n",
    "drive.mount(\"/content/drive\")"
   ]
  },
  {
   "cell_type": "code",
   "execution_count": null,
   "metadata": {},
   "outputs": [],
   "source": [
    "!mkdir /content/drive/MyDrive/ocr_params -p\n",
    "!cp /content/drive/MyDrive/datasets/ocr_data.zip .\n",
    "# this lists checkpoints with the full path, easy to copy the path and paste\n",
    "!find /content/drive/MyDrive/ocr_params"
   ]
  },
  {
   "cell_type": "code",
   "execution_count": null,
   "metadata": {},
   "outputs": [],
   "source": [
    "# Get utilities\n",
    "import os\n",
    "import platform\n",
    "\n",
    "if not os.path.exists(\"ocr_data.zip\"):\n",
    "    print(\"upload images\")\n",
    "elif platform.system() == \"Linux\":\n",
    "    os.system(\"git clone https://github.com/n1teshy/sequence-transduction && mv sequence-transduction/core . && rm -rf sequence-transduction\")\n",
    "    os.system(\"git clone https://github.com/n1teshy/cache && mv cache/ocr/tokenizers . && rm -rf cache\")\n",
    "    os.system(\"unzip ocr_data.zip -d . > /dev/null && rm ocr_data.zip\")\n",
    "else:\n",
    "    os.system(\"git clone https://github.com/n1teshy/sequence-transduction & move sequence-transduction/core . & rd /s /q sequence-transduction\")\n",
    "    os.system(\"git clone https://github.com/n1teshy/cache & move cache/ocr/tokenizers . & rd /s /q cache\")\n",
    "    os.system(\"powershell Expand-Archive -Path ocr_data.zip -DestinationPath . > NUL & del ocr_data.zip\")"
   ]
  },
  {
   "cell_type": "code",
   "execution_count": null,
   "metadata": {},
   "outputs": [],
   "source": [
    "import torch\n",
    "import torch.nn.functional as F\n",
    "from core.models import OCR, resnet18\n",
    "from core.datasets.image import OCRDataset\n",
    "from core.tokenizers.regex import get_tokenizer\n",
    "from torch.utils.data import DataLoader\n",
    "from core.utils import get_param_count, kaiming_init\n",
    "from core.config import device"
   ]
  },
  {
   "cell_type": "code",
   "execution_count": 2,
   "metadata": {},
   "outputs": [],
   "source": [
    "TRAIN_FOLDER, BATCH_SIZE = \"data/train\", 8\n",
    "TEST_FOLDER = \"data/test\"\n",
    "tokenizer = get_tokenizer(\"_.txt\", 384, \"tokenizers/en\")\n",
    "train_dataset = OCRDataset(\n",
    "    TRAIN_FOLDER, mapping_file=\"meta/labels.txt\", tokenizer=tokenizer\n",
    ")\n",
    "test_dataset = OCRDataset(\n",
    "    TEST_FOLDER, mapping_file=\"meta/labels.txt\", tokenizer=tokenizer\n",
    ")\n",
    "\n",
    "train_dataloader = DataLoader(\n",
    "    train_dataset, collate_fn=train_dataset.collate, batch_size=BATCH_SIZE, shuffle=True\n",
    ")\n",
    "test_dataloader = DataLoader(\n",
    "    test_dataset, collate_fn=test_dataset.collate, batch_size=BATCH_SIZE, shuffle=True\n",
    ")\n",
    "\n",
    "def get_test_loss(model):\n",
    "    with torch.no_grad():\n",
    "        for pixels, tokens in test_dataloader:\n",
    "            logits = model(pixels, tokens[:, :-1])\n",
    "            B, T, C = logits.shape\n",
    "            logits, tokens = logits.reshape((B * T, C)), tokens[:, 1:].reshape(-1)\n",
    "            return F.cross_entropy(logits, tokens)"
   ]
  },
  {
   "cell_type": "code",
   "execution_count": 3,
   "metadata": {},
   "outputs": [],
   "source": [
    "EPOCHS = 100\n",
    "LEARNING_RATE = 0.001\n",
    "EMBEDDING_SIZE = 256\n",
    "VOCAB_SZE = tokenizer.size\n",
    "MAX_LEN = 100\n",
    "DEC_LAYERS = 5\n",
    "DEC_HEADS = 4\n",
    "PADDING_ID = train_dataset.pad_id\n",
    "ENCODER = resnet18(num_classes=EMBEDDING_SIZE)\n",
    "MIN_PROGRESS = 0.1"
   ]
  },
  {
   "cell_type": "code",
   "execution_count": null,
   "metadata": {},
   "outputs": [],
   "source": [
    "model = OCR.spawn(\n",
    "    encoder= ENCODER.to(device),\n",
    "    out_vocab_size=VOCAB_SZE,\n",
    "    embedding_size=EMBEDDING_SIZE,\n",
    "    max_len=MAX_LEN,\n",
    "    dec_layers=DEC_LAYERS,\n",
    "    dec_heads=DEC_HEADS,\n",
    "    tgt_pad_id=PADDING_ID,\n",
    ")\n",
    "# model.load_state_dict(torch.load(\"\", map_location=device))\n",
    "kaiming_init(model)\n",
    "print(f\"{get_param_count(model)/1e6} mn params\")"
   ]
  },
  {
   "cell_type": "code",
   "execution_count": 5,
   "metadata": {},
   "outputs": [],
   "source": [
    "optimizer = torch.optim.AdamW(model.parameters(), lr=LEARNING_RATE)"
   ]
  },
  {
   "cell_type": "code",
   "execution_count": 6,
   "metadata": {},
   "outputs": [],
   "source": [
    "mean_train_loss, mean_test_loss, last_saved_at = None, None, None"
   ]
  },
  {
   "cell_type": "code",
   "execution_count": null,
   "metadata": {},
   "outputs": [],
   "source": [
    "def save_model(folder):\n",
    "    model_filename = \"ocr_%.4f_%.4f_class_%d_lr_%.4f.pth\" % (\n",
    "        mean_train_loss,\n",
    "        mean_test_loss,\n",
    "        EMBEDDING_SIZE,\n",
    "        LEARNING_RATE,\n",
    "    )\n",
    "    torch.save(model.state_dict(), os.path.join(folder, f\"{model_filename}.pth\"))"
   ]
  },
  {
   "cell_type": "code",
   "execution_count": null,
   "metadata": {},
   "outputs": [],
   "source": [
    "for epoch in range(1, EPOCHS + 1):\n",
    "    for batch, (pixels, tokens) in enumerate(train_dataloader, start=1):\n",
    "        logits = model(pixels, tokens[:, :-1])\n",
    "        B, T, C = logits.shape\n",
    "        logits, tokens = logits.reshape((B * T, C)), tokens[:, 1:].reshape(-1)\n",
    "        train_loss = F.cross_entropy(logits, tokens)\n",
    "        mean_train_loss = (\n",
    "            mean_train_loss or train_loss.item()\n",
    "        ) * 0.99 + train_loss.item() * 0.01\n",
    "        optimizer.zero_grad()\n",
    "        train_loss.backward()\n",
    "        optimizer.step()\n",
    "        test_loss = get_test_loss(model)\n",
    "        mean_test_loss = (\n",
    "            mean_test_loss or test_loss.item()\n",
    "        ) * 0.99 + test_loss.item() * 0.01\n",
    "        print(\n",
    "            \"%d:%d -> %.4f(mean:%.4f), %.4f(mean:%.4f)\"\n",
    "            % (\n",
    "                epoch,\n",
    "                batch,\n",
    "                train_loss.item(),\n",
    "                mean_train_loss,\n",
    "                test_loss.item(),\n",
    "                mean_test_loss,\n",
    "            )\n",
    "        )\n",
    "        if last_saved_at - mean_train_loss >= MIN_PROGRESS:\n",
    "            save_model(\"drive/MyDrive/ocr_params\")\n",
    "            print(f\"saved model at train loss {mean_train_loss}\")\n",
    "            last_saved_at = mean_train_loss"
   ]
  },
  {
   "cell_type": "code",
   "execution_count": null,
   "metadata": {},
   "outputs": [],
   "source": [
    "def predict(image, bos_id, eos_id):\n",
    "    context = torch.tensor([[bos_id]], device=device)\n",
    "    while True:\n",
    "        logits = model(image, context)\n",
    "        probs = F.softmax(logits, dim=-1)\n",
    "        probs = probs.view(-1, probs.shape[-1])\n",
    "        choices = torch.multinomial(probs, num_samples=1)\n",
    "        choices = choices[-1, :]\n",
    "        if choices.item() == eos_id:\n",
    "            break\n",
    "        context = torch.cat((context, choices.unsqueeze(0)), dim=1)\n",
    "    return context[0].tolist()"
   ]
  },
  {
   "cell_type": "code",
   "execution_count": null,
   "metadata": {},
   "outputs": [],
   "source": [
    "for images, tgt_tokens in test_dataloader:\n",
    "    image = images[0].unsqueeze(0)\n",
    "    pred_tokens = predict(image, test_dataset.bos_id, test_dataset.eos_id)\n",
    "    print(tokenizer.decode(tgt_tokens[0].tolist()), tokenizer.decode(pred_tokens))"
   ]
  }
 ],
 "metadata": {
  "kernelspec": {
   "display_name": "venv",
   "language": "python",
   "name": "python3"
  },
  "language_info": {
   "codemirror_mode": {
    "name": "ipython",
    "version": 3
   },
   "file_extension": ".py",
   "mimetype": "text/x-python",
   "name": "python",
   "nbconvert_exporter": "python",
   "pygments_lexer": "ipython3",
   "version": "3.11.4"
  },
  "orig_nbformat": 4
 },
 "nbformat": 4,
 "nbformat_minor": 2
}
